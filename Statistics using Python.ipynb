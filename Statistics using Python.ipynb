{
 "cells": [
  {
   "cell_type": "markdown",
   "id": "4bc710e9",
   "metadata": {},
   "source": [
    "# Statistics using python"
   ]
  },
  {
   "cell_type": "markdown",
   "id": "8bdfb625",
   "metadata": {},
   "source": [
    "### Mean"
   ]
  },
  {
   "cell_type": "code",
   "execution_count": 1,
   "id": "0d520408",
   "metadata": {},
   "outputs": [
    {
     "name": "stdout",
     "output_type": "stream",
     "text": [
      "Mean:5.5\n"
     ]
    }
   ],
   "source": [
    "def mean(*args):\n",
    "    val_sum=sum(args)\n",
    "    return val_sum/len(args)\n",
    "print(f'Mean:{mean(1,2,3,4,5,6,7,8,9,10)}')"
   ]
  },
  {
   "cell_type": "markdown",
   "id": "f57c7ed7",
   "metadata": {},
   "source": [
    "### Median"
   ]
  },
  {
   "cell_type": "code",
   "execution_count": 6,
   "id": "e054c532",
   "metadata": {},
   "outputs": [
    {
     "name": "stdout",
     "output_type": "stream",
     "text": [
      "Median:3\n",
      "Median:4.5\n"
     ]
    }
   ],
   "source": [
    "def median(*args):\n",
    "    if len(args)%2==0:\n",
    "        i=round((len(args)+1)/2)\n",
    "        j=i-1\n",
    "        return (args[i]+args[j])/2\n",
    "    else:\n",
    "        k=round(len(args)/2)\n",
    "        return args[k]\n",
    "print(f\"Median:{median(1,2,3,4,5)}\")\n",
    "print(f\"Median:{median(1,2,3,4,5,6)}\")"
   ]
  },
  {
   "cell_type": "markdown",
   "id": "96a017cc",
   "metadata": {},
   "source": [
    "### Mode"
   ]
  },
  {
   "cell_type": "code",
   "execution_count": 8,
   "id": "6d2beb7e",
   "metadata": {},
   "outputs": [
    {
     "name": "stdout",
     "output_type": "stream",
     "text": [
      "Mode:[1, 2]\n"
     ]
    }
   ],
   "source": [
    "def mode(*args):\n",
    "    dict_vals={i:args.count(i) for i in args}\n",
    "    max_list=[k for k,v in dict_vals.items() if v==max(dict_vals.values())]\n",
    "    return max_list\n",
    "print(f'Mode:{mode(1,1,1,4,6,2,2,2,3)}')"
   ]
  },
  {
   "cell_type": "markdown",
   "id": "b60ce69c",
   "metadata": {},
   "source": [
    "### Variance"
   ]
  },
  {
   "cell_type": "code",
   "execution_count": 11,
   "id": "a2b76414",
   "metadata": {},
   "outputs": [
    {
     "name": "stdout",
     "output_type": "stream",
     "text": [
      "Variance:9.466666666666667\n"
     ]
    }
   ],
   "source": [
    "def variance(*args):\n",
    "    mean_val=mean(*args)\n",
    "    numerator=0\n",
    "    for i in args:\n",
    "        numerator+=(i-mean_val)**2\n",
    "    denominator=len(args)-1\n",
    "    return numerator/denominator\n",
    "print(f'Variance:{variance(1,6,7,3,9,8)}')"
   ]
  },
  {
   "cell_type": "markdown",
   "id": "6edd8d43",
   "metadata": {},
   "source": [
    "### standard_deviation"
   ]
  },
  {
   "cell_type": "code",
   "execution_count": 13,
   "id": "045150b0",
   "metadata": {},
   "outputs": [
    {
     "name": "stdout",
     "output_type": "stream",
     "text": [
      "SD:3.0767948691238205\n"
     ]
    }
   ],
   "source": [
    "import math\n",
    "def standard_deviation(*args):\n",
    "    return math.sqrt(variance(*args))\n",
    "print(f'SD:{standard_deviation(1,6,7,3,9,8)}')"
   ]
  },
  {
   "cell_type": "code",
   "execution_count": null,
   "id": "62a1f59f",
   "metadata": {},
   "outputs": [],
   "source": []
  }
 ],
 "metadata": {
  "kernelspec": {
   "display_name": "Python 3 (ipykernel)",
   "language": "python",
   "name": "python3"
  },
  "language_info": {
   "codemirror_mode": {
    "name": "ipython",
    "version": 3
   },
   "file_extension": ".py",
   "mimetype": "text/x-python",
   "name": "python",
   "nbconvert_exporter": "python",
   "pygments_lexer": "ipython3",
   "version": "3.9.7"
  }
 },
 "nbformat": 4,
 "nbformat_minor": 5
}
