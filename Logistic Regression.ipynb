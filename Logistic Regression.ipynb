{
 "cells": [
  {
   "cell_type": "markdown",
   "id": "e506bd55",
   "metadata": {},
   "source": [
    "# Logistic Regression"
   ]
  },
  {
   "cell_type": "code",
   "execution_count": 1,
   "id": "a0566567",
   "metadata": {},
   "outputs": [],
   "source": [
    "import pandas as pd\n",
    "import numpy as np\n",
    "import matplotlib.pyplot as plt"
   ]
  },
  {
   "cell_type": "code",
   "execution_count": 2,
   "id": "a2ae0484",
   "metadata": {},
   "outputs": [
    {
     "data": {
      "text/html": [
       "<div>\n",
       "<style scoped>\n",
       "    .dataframe tbody tr th:only-of-type {\n",
       "        vertical-align: middle;\n",
       "    }\n",
       "\n",
       "    .dataframe tbody tr th {\n",
       "        vertical-align: top;\n",
       "    }\n",
       "\n",
       "    .dataframe thead th {\n",
       "        text-align: right;\n",
       "    }\n",
       "</style>\n",
       "<table border=\"1\" class=\"dataframe\">\n",
       "  <thead>\n",
       "    <tr style=\"text-align: right;\">\n",
       "      <th></th>\n",
       "      <th>X</th>\n",
       "      <th>Y</th>\n",
       "    </tr>\n",
       "  </thead>\n",
       "  <tbody>\n",
       "    <tr>\n",
       "      <th>0</th>\n",
       "      <td>1</td>\n",
       "      <td>1.65</td>\n",
       "    </tr>\n",
       "    <tr>\n",
       "      <th>1</th>\n",
       "      <td>2</td>\n",
       "      <td>3.45</td>\n",
       "    </tr>\n",
       "    <tr>\n",
       "      <th>2</th>\n",
       "      <td>3</td>\n",
       "      <td>6.54</td>\n",
       "    </tr>\n",
       "    <tr>\n",
       "      <th>3</th>\n",
       "      <td>4</td>\n",
       "      <td>9.42</td>\n",
       "    </tr>\n",
       "    <tr>\n",
       "      <th>4</th>\n",
       "      <td>5</td>\n",
       "      <td>11.35</td>\n",
       "    </tr>\n",
       "    <tr>\n",
       "      <th>5</th>\n",
       "      <td>6</td>\n",
       "      <td>13.30</td>\n",
       "    </tr>\n",
       "    <tr>\n",
       "      <th>6</th>\n",
       "      <td>7</td>\n",
       "      <td>16.00</td>\n",
       "    </tr>\n",
       "    <tr>\n",
       "      <th>7</th>\n",
       "      <td>8</td>\n",
       "      <td>18.60</td>\n",
       "    </tr>\n",
       "    <tr>\n",
       "      <th>8</th>\n",
       "      <td>9</td>\n",
       "      <td>20.56</td>\n",
       "    </tr>\n",
       "    <tr>\n",
       "      <th>9</th>\n",
       "      <td>10</td>\n",
       "      <td>22.95</td>\n",
       "    </tr>\n",
       "  </tbody>\n",
       "</table>\n",
       "</div>"
      ],
      "text/plain": [
       "    X      Y\n",
       "0   1   1.65\n",
       "1   2   3.45\n",
       "2   3   6.54\n",
       "3   4   9.42\n",
       "4   5  11.35\n",
       "5   6  13.30\n",
       "6   7  16.00\n",
       "7   8  18.60\n",
       "8   9  20.56\n",
       "9  10  22.95"
      ]
     },
     "execution_count": 2,
     "metadata": {},
     "output_type": "execute_result"
    }
   ],
   "source": [
    "X = [i for i in range(1,11)]\n",
    "Y = [1.65,3.45,6.54,9.42,11.35,13.30,16,18.60,20.56,22.95]\n",
    "\n",
    "df = pd.DataFrame(data={'X':X,'Y':Y})\n",
    "df"
   ]
  },
  {
   "cell_type": "markdown",
   "id": "a9260113",
   "metadata": {},
   "source": [
    "$$m = \\frac{n\\sum x*y - \\sum x\\sum y}{n\\sum x^{2} - (\\sum x)^{2}}$$"
   ]
  },
  {
   "cell_type": "code",
   "execution_count": 3,
   "id": "aff46727",
   "metadata": {},
   "outputs": [
    {
     "data": {
      "text/html": [
       "<div>\n",
       "<style scoped>\n",
       "    .dataframe tbody tr th:only-of-type {\n",
       "        vertical-align: middle;\n",
       "    }\n",
       "\n",
       "    .dataframe tbody tr th {\n",
       "        vertical-align: top;\n",
       "    }\n",
       "\n",
       "    .dataframe thead th {\n",
       "        text-align: right;\n",
       "    }\n",
       "</style>\n",
       "<table border=\"1\" class=\"dataframe\">\n",
       "  <thead>\n",
       "    <tr style=\"text-align: right;\">\n",
       "      <th></th>\n",
       "      <th>X</th>\n",
       "      <th>Y</th>\n",
       "      <th>XY</th>\n",
       "      <th>X^2</th>\n",
       "    </tr>\n",
       "  </thead>\n",
       "  <tbody>\n",
       "    <tr>\n",
       "      <th>0</th>\n",
       "      <td>1</td>\n",
       "      <td>1.65</td>\n",
       "      <td>1.65</td>\n",
       "      <td>1</td>\n",
       "    </tr>\n",
       "    <tr>\n",
       "      <th>1</th>\n",
       "      <td>2</td>\n",
       "      <td>3.45</td>\n",
       "      <td>6.90</td>\n",
       "      <td>4</td>\n",
       "    </tr>\n",
       "    <tr>\n",
       "      <th>2</th>\n",
       "      <td>3</td>\n",
       "      <td>6.54</td>\n",
       "      <td>19.62</td>\n",
       "      <td>9</td>\n",
       "    </tr>\n",
       "    <tr>\n",
       "      <th>3</th>\n",
       "      <td>4</td>\n",
       "      <td>9.42</td>\n",
       "      <td>37.68</td>\n",
       "      <td>16</td>\n",
       "    </tr>\n",
       "    <tr>\n",
       "      <th>4</th>\n",
       "      <td>5</td>\n",
       "      <td>11.35</td>\n",
       "      <td>56.75</td>\n",
       "      <td>25</td>\n",
       "    </tr>\n",
       "    <tr>\n",
       "      <th>5</th>\n",
       "      <td>6</td>\n",
       "      <td>13.30</td>\n",
       "      <td>79.80</td>\n",
       "      <td>36</td>\n",
       "    </tr>\n",
       "    <tr>\n",
       "      <th>6</th>\n",
       "      <td>7</td>\n",
       "      <td>16.00</td>\n",
       "      <td>112.00</td>\n",
       "      <td>49</td>\n",
       "    </tr>\n",
       "    <tr>\n",
       "      <th>7</th>\n",
       "      <td>8</td>\n",
       "      <td>18.60</td>\n",
       "      <td>148.80</td>\n",
       "      <td>64</td>\n",
       "    </tr>\n",
       "    <tr>\n",
       "      <th>8</th>\n",
       "      <td>9</td>\n",
       "      <td>20.56</td>\n",
       "      <td>185.04</td>\n",
       "      <td>81</td>\n",
       "    </tr>\n",
       "    <tr>\n",
       "      <th>9</th>\n",
       "      <td>10</td>\n",
       "      <td>22.95</td>\n",
       "      <td>229.50</td>\n",
       "      <td>100</td>\n",
       "    </tr>\n",
       "  </tbody>\n",
       "</table>\n",
       "</div>"
      ],
      "text/plain": [
       "    X      Y      XY  X^2\n",
       "0   1   1.65    1.65    1\n",
       "1   2   3.45    6.90    4\n",
       "2   3   6.54   19.62    9\n",
       "3   4   9.42   37.68   16\n",
       "4   5  11.35   56.75   25\n",
       "5   6  13.30   79.80   36\n",
       "6   7  16.00  112.00   49\n",
       "7   8  18.60  148.80   64\n",
       "8   9  20.56  185.04   81\n",
       "9  10  22.95  229.50  100"
      ]
     },
     "execution_count": 3,
     "metadata": {},
     "output_type": "execute_result"
    }
   ],
   "source": [
    "df['XY'] = df['X'] * df['Y']\n",
    "df['X^2'] = df['X'] ** 2\n",
    "df"
   ]
  },
  {
   "cell_type": "code",
   "execution_count": 4,
   "id": "fef5ecef",
   "metadata": {},
   "outputs": [],
   "source": [
    "n = len(df)\n",
    "sum_xy = df['XY'].sum()\n",
    "sum_x = df['X'].sum()\n",
    "sum_y = df['Y'].sum()\n",
    "sum_x_2 = df['X^2'].sum()\n",
    "sum_x_h_2 = sum_x ** 2"
   ]
  },
  {
   "cell_type": "code",
   "execution_count": 5,
   "id": "afd03c4b",
   "metadata": {},
   "outputs": [
    {
     "name": "stdout",
     "output_type": "stream",
     "text": [
      "10 877.74 55 123.82000000000001 385 3025\n"
     ]
    }
   ],
   "source": [
    "print(n, sum_xy, sum_x, sum_y, sum_x_2, sum_x_h_2)"
   ]
  },
  {
   "cell_type": "code",
   "execution_count": 6,
   "id": "a5272035",
   "metadata": {},
   "outputs": [],
   "source": [
    "numerator_m = (n*(sum_xy)) - (sum_x * sum_y)\n",
    "denominator_m = (n * sum_x_2) - (sum_x_h_2)"
   ]
  },
  {
   "cell_type": "code",
   "execution_count": 7,
   "id": "163bd5f2",
   "metadata": {},
   "outputs": [
    {
     "data": {
      "text/plain": [
       "(1967.2999999999993, 825)"
      ]
     },
     "execution_count": 7,
     "metadata": {},
     "output_type": "execute_result"
    }
   ],
   "source": [
    "numerator_m, denominator_m"
   ]
  },
  {
   "cell_type": "code",
   "execution_count": 8,
   "id": "f037a3b2",
   "metadata": {},
   "outputs": [
    {
     "data": {
      "text/plain": [
       "2.3846060606060595"
      ]
     },
     "execution_count": 8,
     "metadata": {},
     "output_type": "execute_result"
    }
   ],
   "source": [
    "m = numerator_m / denominator_m\n",
    "m"
   ]
  },
  {
   "cell_type": "markdown",
   "id": "2d6bb0b6",
   "metadata": {},
   "source": [
    "$$b = \\frac{\\sum y - m * \\sum x}{n}$$"
   ]
  },
  {
   "cell_type": "code",
   "execution_count": 9,
   "id": "d27977ef",
   "metadata": {},
   "outputs": [],
   "source": [
    "numerator_b = sum_y - (m * sum_x) \n",
    "denominator_b = len(df)"
   ]
  },
  {
   "cell_type": "code",
   "execution_count": 10,
   "id": "ec52af2e",
   "metadata": {},
   "outputs": [
    {
     "data": {
      "text/plain": [
       "-0.7333333333333272"
      ]
     },
     "execution_count": 10,
     "metadata": {},
     "output_type": "execute_result"
    }
   ],
   "source": [
    "b = numerator_b / denominator_b\n",
    "b"
   ]
  },
  {
   "cell_type": "markdown",
   "id": "3aa14da1",
   "metadata": {},
   "source": [
    "$$y_{pred} = m\\sum_{i=1}^{n}X + b$$"
   ]
  },
  {
   "cell_type": "code",
   "execution_count": 11,
   "id": "0d8d51ae",
   "metadata": {},
   "outputs": [
    {
     "data": {
      "text/plain": [
       "[1.65, 4.04, 6.42, 8.81, 11.19, 13.57, 15.96, 18.34, 20.73, 23.11]"
      ]
     },
     "execution_count": 11,
     "metadata": {},
     "output_type": "execute_result"
    }
   ],
   "source": [
    "y_pred = [round((m * Xi + b), 2) for Xi in df['X']]\n",
    "y_pred"
   ]
  },
  {
   "cell_type": "markdown",
   "id": "5fdb3d3b",
   "metadata": {},
   "source": [
    "$$squarederror = \\sum_{i=0}^{n} (y_{pred} - y_{orig})^{2}$$"
   ]
  },
  {
   "cell_type": "code",
   "execution_count": 12,
   "id": "9b6c430c",
   "metadata": {},
   "outputs": [
    {
     "data": {
      "text/plain": [
       "0.9568000000000004"
      ]
     },
     "execution_count": 12,
     "metadata": {},
     "output_type": "execute_result"
    }
   ],
   "source": [
    "squarederror = sum([(y_pred_value - y_orig_value) ** 2 \n",
    "               for y_pred_value, y_orig_value in zip(y_pred, df['Y'].values)])\n",
    "squarederror"
   ]
  },
  {
   "cell_type": "code",
   "execution_count": 13,
   "id": "c30871d7",
   "metadata": {},
   "outputs": [
    {
     "data": {
      "image/png": "[encoded data removed]",
      "text/plain": [
       "<Figure size 432x288 with 1 Axes>"
      ]
     },
     "metadata": {
      "needs_background": "light"
     },
     "output_type": "display_data"
    }
   ],
   "source": [
    "plt.scatter(list(range(len(df))), df['Y'].values, label='original')\n",
    "plt.plot(list(range(len(df))), y_pred, c='r', label='predicted')\n",
    "plt.title(\"Logistic Regression\")\n",
    "plt.xlabel(\"x values\")\n",
    "plt.ylabel(\"y values\")\n",
    "plt.grid()\n",
    "plt.legend()\n",
    "plt.show()"
   ]
  },
  {
   "cell_type": "code",
   "execution_count": 14,
   "id": "920648d5",
   "metadata": {},
   "outputs": [
    {
     "name": "stdout",
     "output_type": "stream",
     "text": [
      "2.3846060606060595\n"
     ]
    }
   ],
   "source": [
    "class m_value:        \n",
    "    def __init__(self, n, sum_xy, sum_x, sum_y, sum_x_2, sum_x_h_2):\n",
    "        self.numerator_m = (n*(sum_xy)) - (sum_x * sum_y)\n",
    "        self.denominator_m = (n * sum_x_2) - (sum_x_h_2)\n",
    "    def A(self):\n",
    "        value = numerator_m / denominator_m\n",
    "        return value\n",
    "m = m_value(n, sum_xy, sum_x, sum_y, sum_x_2, sum_x_h_2)\n",
    "m = m.A()\n",
    "print(m)"
   ]
  },
  {
   "cell_type": "code",
   "execution_count": 15,
   "id": "58f15a1f",
   "metadata": {},
   "outputs": [
    {
     "name": "stdout",
     "output_type": "stream",
     "text": [
      "-0.7333333333333272\n"
     ]
    }
   ],
   "source": [
    "class b_value:\n",
    "    def __init__(self, m, sum_y, sum_x, n):\n",
    "        self.numerator_b = sum_y - (m * sum_x) \n",
    "        self.denominator_b = n\n",
    "    def B(self):\n",
    "        self.value = self.numerator_b / denominator_b\n",
    "        return self.value\n",
    "b = b_value(m, sum_y, sum_x, n)  \n",
    "b = b.B()\n",
    "print(b)"
   ]
  },
  {
   "cell_type": "code",
   "execution_count": 16,
   "id": "3bb5a27a",
   "metadata": {},
   "outputs": [
    {
     "name": "stdout",
     "output_type": "stream",
     "text": [
      "[1.65, 4.04, 6.42, 8.81, 11.19, 13.57, 15.96, 18.34, 20.73, 23.11]\n"
     ]
    }
   ],
   "source": [
    "class final_value:\n",
    "    def __init__(self, m, X, b):\n",
    "        self.y_pred = [round((m * Xi + b), 2) for Xi in df['X']]\n",
    "    def PrintYpred(self): \n",
    "        return self.y_pred\n",
    "ypred = final_value(m, X, b)   \n",
    "ypred = ypred.PrintYpred()\n",
    "print(ypred)"
   ]
  },
  {
   "cell_type": "code",
   "execution_count": 17,
   "id": "cb523b53",
   "metadata": {},
   "outputs": [
    {
     "name": "stdout",
     "output_type": "stream",
     "text": [
      "0.9568000000000004\n"
     ]
    }
   ],
   "source": [
    "class Squarederror:\n",
    "    def __init__(self, ypred, Y):\n",
    "        self.SE = sum([(y_pred_value - y_orig_value) ** 2 \n",
    "               for y_pred_value, y_orig_value in zip(y_pred, df['Y'].values)])\n",
    "    def Error(self):\n",
    "        return self.SE\n",
    "squared_error = Squarederror(ypred, Y)\n",
    "squared_error = squared_error.Error()\n",
    "print(squared_error)"
   ]
  },
  {
   "cell_type": "code",
   "execution_count": 18,
   "id": "9e86715a",
   "metadata": {},
   "outputs": [
    {
     "data": {
      "image/png": "[encoded data removed]",
      "text/plain": [
       "<Figure size 432x288 with 1 Axes>"
      ]
     },
     "metadata": {
      "needs_background": "light"
     },
     "output_type": "display_data"
    }
   ],
   "source": [
    "class graph:\n",
    "    def __init__(self, df, ypred):\n",
    "        plt.scatter(list(range(len(df))), df['Y'].values, label='original')\n",
    "        plt.plot(list(range(len(df))), y_pred, c='r', label='predicted')\n",
    "        plt.title(\"Logistic Regression\")\n",
    "        plt.xlabel(\"x values\")\n",
    "        plt.ylabel(\"y values\")\n",
    "        plt.grid()\n",
    "        plt.legend()\n",
    "        plt.show()\n",
    "Graph = graph(df, ypred)  "
   ]
  },
  {
   "cell_type": "code",
   "execution_count": null,
   "id": "56d55656",
   "metadata": {},
   "outputs": [],
   "source": []
  }
 ],
 "metadata": {
  "kernelspec": {
   "display_name": "Python 3 (ipykernel)",
   "language": "python",
   "name": "python3"
  },
  "language_info": {
   "codemirror_mode": {
    "name": "ipython",
    "version": 3
   },
   "file_extension": ".py",
   "mimetype": "text/x-python",
   "name": "python",
   "nbconvert_exporter": "python",
   "pygments_lexer": "ipython3",
   "version": "3.9.7"
  }
 },
 "nbformat": 4,
 "nbformat_minor": 5
}
